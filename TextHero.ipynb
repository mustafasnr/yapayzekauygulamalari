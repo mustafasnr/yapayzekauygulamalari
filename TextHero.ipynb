{
 "cells": [
  {
   "cell_type": "code",
   "execution_count": null,
   "id": "98496c6c",
   "metadata": {},
   "outputs": [],
   "source": [
    "import pandas as pd\n",
    "from textblob import TextBlob\n",
    "import texthero as hero\n",
    "from texthero import preprocessing"
   ]
  },
  {
   "cell_type": "code",
   "execution_count": null,
   "id": "a8ea4749",
   "metadata": {},
   "outputs": [],
   "source": [
    "data=pd.read_csv(\"veri.csv\")"
   ]
  },
  {
   "cell_type": "code",
   "execution_count": null,
   "id": "9691a61c",
   "metadata": {},
   "outputs": [],
   "source": [
    "before_polarity=[\n",
    "    preprocessing.fillna,\n",
    "    preprocessing.lowercase,\n",
    "    preprocessing.remove_digits,\n",
    "    preprocessing.remove_urls,\n",
    "    preprocessing.remove_punctuation,\n",
    "    preprocessing.remove_diacritics,\n",
    "    preprocessing.remove_stopwords,\n",
    "    preprocessing.remove_html_tags,\n",
    "]\n",
    "after_polarity=[\n",
    "    preprocessing.stem,\n",
    "]"
   ]
  },
  {
   "cell_type": "code",
   "execution_count": null,
   "id": "acbf1150",
   "metadata": {},
   "outputs": [],
   "source": [
    "data[\"cleantext\"]=hero.clean(data[\"Content\"],before_polarity)"
   ]
  },
  {
   "cell_type": "code",
   "execution_count": null,
   "id": "4b049fff",
   "metadata": {},
   "outputs": [],
   "source": [
    "data=data.drop([\"Content\"],axis=1)\n",
    "data=data.drop([\"Unnamed: 0\"],axis=1)"
   ]
  },
  {
   "cell_type": "code",
   "execution_count": null,
   "id": "e4a7984f",
   "metadata": {},
   "outputs": [],
   "source": [
    "def polarity(text):\n",
    "    return TextBlob(text).sentiment.polarity"
   ]
  },
  {
   "cell_type": "code",
   "execution_count": null,
   "id": "17c36203",
   "metadata": {},
   "outputs": [],
   "source": [
    "data[\"Polarity\"]=data[\"cleantext\"].apply(polarity)\n",
    "data[\"cleantext\"]=hero.clean(data[\"cleantext\"],after_polarity)"
   ]
  },
  {
   "cell_type": "code",
   "execution_count": null,
   "id": "224a0f58",
   "metadata": {},
   "outputs": [],
   "source": [
    "def label(polarity):\n",
    "    if(polarity<0):\n",
    "        return \"Negative\"\n",
    "    elif(polarity>0):\n",
    "        return \"Positive\"\n",
    "    else:\n",
    "        return \"Neutral\""
   ]
  },
  {
   "cell_type": "code",
   "execution_count": null,
   "id": "1ae9133f",
   "metadata": {},
   "outputs": [],
   "source": [
    "data[\"Sentiment\"]=data[\"Polarity\"].apply(label)"
   ]
  },
  {
   "cell_type": "code",
   "execution_count": null,
   "id": "c4e8486a",
   "metadata": {},
   "outputs": [],
   "source": [
    "data.to_csv(\"done.csv\")"
   ]
  }
 ],
 "metadata": {
  "kernelspec": {
   "display_name": "Python 3 (ipykernel)",
   "language": "python",
   "name": "python3"
  },
  "language_info": {
   "codemirror_mode": {
    "name": "ipython",
    "version": 3
   },
   "file_extension": ".py",
   "mimetype": "text/x-python",
   "name": "python",
   "nbconvert_exporter": "python",
   "pygments_lexer": "ipython3",
   "version": "3.9.13"
  }
 },
 "nbformat": 4,
 "nbformat_minor": 5
}
