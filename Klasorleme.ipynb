{
 "cells": [
  {
   "cell_type": "code",
   "execution_count": null,
   "id": "985aea2b",
   "metadata": {},
   "outputs": [],
   "source": [
    "import pandas as pd\n",
    "import os\n",
    "import random\n",
    "from tqdm import tqdm"
   ]
  },
  {
   "cell_type": "code",
   "execution_count": null,
   "id": "c08e0e5f",
   "metadata": {},
   "outputs": [],
   "source": [
    "data=pd.read_csv(\"done.csv\")"
   ]
  },
  {
   "cell_type": "code",
   "execution_count": null,
   "id": "c774599c",
   "metadata": {},
   "outputs": [],
   "source": [
    "direction=\"C:/Users/Muhammed/Documents/Programlama/YapayZekaveUygulamalari/\"\n",
    "pos=direction+\"Positive/\"\n",
    "neg=direction+\"Negative/\"\n",
    "neut=direction+\"Neutral/\""
   ]
  },
  {
   "cell_type": "code",
   "execution_count": null,
   "id": "c487e09d",
   "metadata": {},
   "outputs": [],
   "source": [
    "try:\n",
    "    os.makedirs(direction+\"/Negative\")\n",
    "except:\n",
    "    print(\"bu dosya var\")\n",
    "try:\n",
    "    os.makedirs(direction+\"/Positive\")\n",
    "except:\n",
    "    print(\"bu dosya var\")\n",
    "try:\n",
    "    os.makedirs(direction+\"/Neutral\")\n",
    "except:\n",
    "    print(\"bu dosya var\")"
   ]
  },
  {
   "cell_type": "code",
   "execution_count": null,
   "id": "08595866",
   "metadata": {},
   "outputs": [],
   "source": [
    "os.listdir(direction)"
   ]
  },
  {
   "cell_type": "code",
   "execution_count": null,
   "id": "3ef3cc51",
   "metadata": {},
   "outputs": [],
   "source": [
    "data"
   ]
  },
  {
   "cell_type": "code",
   "execution_count": null,
   "id": "72bc0db5",
   "metadata": {},
   "outputs": [],
   "source": [
    "texts=data.iloc[:,0:1].values\n",
    "#polarities=data.iloc[:,1:2].values\n",
    "sentiments=data.iloc[:,2:3].values"
   ]
  },
  {
   "cell_type": "code",
   "execution_count": null,
   "id": "4cfb2be9",
   "metadata": {},
   "outputs": [],
   "source": [
    "def klasorleme(text,label,i):\n",
    "    dir_name=direction+label+\"/\"+str(i)+\".txt\"\n",
    "    file=open(dir_name,\"w\")\n",
    "    file.write(text)\n",
    "    file.close()"
   ]
  },
  {
   "cell_type": "code",
   "execution_count": null,
   "id": "cd20f6f0",
   "metadata": {},
   "outputs": [],
   "source": [
    "for i in tqdm(range(len(zor))):\n",
    "    klasorleme(texts[i][0],sentiments[i][0],i)"
   ]
  },
  {
   "cell_type": "code",
   "execution_count": null,
   "id": "071d6830",
   "metadata": {},
   "outputs": [],
   "source": [
    "pozitifler=os.listdir(pos)\n",
    "negatifler=os.listdir(neg)\n",
    "notrler=os.listdir(neut)"
   ]
  },
  {
   "cell_type": "code",
   "execution_count": null,
   "id": "9a7f453b",
   "metadata": {},
   "outputs": [],
   "source": [
    "ps=int(len(pozitifler)/5)\n",
    "ns=int(len(negatifler)/5)\n",
    "no=int(len(notrler)/5)"
   ]
  },
  {
   "cell_type": "code",
   "execution_count": null,
   "id": "3ca91a11",
   "metadata": {},
   "outputs": [],
   "source": [
    "os.makedirs(\"test/Negative\")\n",
    "os.makedirs(\"test/Positive\")\n",
    "os.makedirs(\"test/Neutral\")"
   ]
  },
  {
   "cell_type": "code",
   "execution_count": null,
   "id": "98127a10",
   "metadata": {},
   "outputs": [],
   "source": [
    "for i in tqdm(range(ps)):\n",
    "    temp=random.choice(pozitifler)\n",
    "    shutil.move(pos+temp,\"test/Positive/\"+temp)\n",
    "    pozitifler=os.listdir(pos)"
   ]
  },
  {
   "cell_type": "code",
   "execution_count": null,
   "id": "363f6079",
   "metadata": {},
   "outputs": [],
   "source": [
    "for i in tqdm(range(ns)):\n",
    "    temp=random.choice(negatifler)\n",
    "    shutil.move(neg+temp,\"test/Negative/\"+temp)\n",
    "    negatifler=os.listdir(neg)"
   ]
  },
  {
   "cell_type": "code",
   "execution_count": null,
   "id": "75cc2af1",
   "metadata": {},
   "outputs": [],
   "source": [
    "for i in tqdm(range(no)):\n",
    "    temp=random.choice(notrler)\n",
    "    shutil.move(neut+temp,\"test/Neutral/\"+temp)\n",
    "    notrler=os.listdir(neut)"
   ]
  }
 ],
 "metadata": {
  "kernelspec": {
   "display_name": "Python 3 (ipykernel)",
   "language": "python",
   "name": "python3"
  },
  "language_info": {
   "codemirror_mode": {
    "name": "ipython",
    "version": 3
   },
   "file_extension": ".py",
   "mimetype": "text/x-python",
   "name": "python",
   "nbconvert_exporter": "python",
   "pygments_lexer": "ipython3",
   "version": "3.9.13"
  }
 },
 "nbformat": 4,
 "nbformat_minor": 5
}
